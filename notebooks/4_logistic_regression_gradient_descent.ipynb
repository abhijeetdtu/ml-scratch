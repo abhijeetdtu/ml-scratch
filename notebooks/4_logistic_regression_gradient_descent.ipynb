{
  "nbformat": 4,
  "nbformat_minor": 0,
  "metadata": {
    "colab": {
      "name": "4-logistic-regression-gradient-descent.ipynb",
      "provenance": [],
      "collapsed_sections": [
        "DkkXuO27k7Fc",
        "F98ATwCZi-G8"
      ]
    },
    "kernelspec": {
      "name": "python3",
      "display_name": "Python 3"
    }
  },
  "cells": [
    {
      "cell_type": "markdown",
      "metadata": {
        "id": "DkkXuO27k7Fc"
      },
      "source": [
        "# Logistic Regression and Gradient Descent\r\n",
        "\r\n",
        "\r\n",
        "### The origins of the *logistic* function\r\n",
        "\r\n",
        "[Verhulst Paper](https://sci-hub.se/10.1007/978-3-642-81046-6_37)\r\n",
        "\r\n",
        "Verhulst , a mathematician and a social scientist, was tackling an age old problem of estimating the population growth. Verhulst and ,his contemporary, Quetlet had interesting opinions about the limit to the extent a population can grow. \r\n",
        "\r\n",
        "He wanted to find the **Law of population**.\r\n",
        "\r\n",
        "<center>\r\n",
        "\r\n",
        "<img src=\"https://user-images.githubusercontent.com/6872080/106181015-11070600-616b-11eb-850a-2d5babb21df5.png\" width=\"70%\">\r\n",
        "\r\n",
        "</center>\r\n",
        "\r\n",
        "<center>\r\n",
        "\r\n",
        "<img src=\"https://user-images.githubusercontent.com/6872080/106181250-5deadc80-616b-11eb-9850-8ae2b694f99a.png\" width=\"70%\">\r\n",
        "\r\n",
        "</center>"
      ]
    },
    {
      "cell_type": "markdown",
      "metadata": {
        "id": "g3769IxLi12Q"
      },
      "source": [
        "The derivation the Verhulst gave in his original paper can be explored if of interest"
      ]
    },
    {
      "cell_type": "markdown",
      "metadata": {
        "id": "8GdcEcT7jn3A"
      },
      "source": [
        "# Derivation"
      ]
    },
    {
      "cell_type": "markdown",
      "metadata": {
        "id": "F98ATwCZi-G8"
      },
      "source": [
        "\r\n",
        "<center>\r\n",
        "\r\n",
        "<img src=\"https://user-images.githubusercontent.com/6872080/106182355-b40c4f80-616c-11eb-9d71-7d6057247bbe.png\" width=\"60%\">\r\n",
        "\r\n",
        "</center>\r\n",
        "\r\n",
        "The basic idea of Logistic Growth is simple and used till this day to model population growth and market penetration of new products and technologies. [JS CRAMER](https://papers.tinbergen.nl/02119.pdf)"
      ]
    },
    {
      "cell_type": "markdown",
      "metadata": {
        "id": "1k2AM_2OLcxG"
      },
      "source": [
        "# Visualizing Logistic Curve\r\n",
        "\r\n",
        "The logistic function is give by\r\n",
        "\r\n",
        "$$ \\frac{1}{1 + e^{-z}} $$\r\n",
        "\r\n",
        "Let's take a look at the logistic curve and how it behaves as we change z from -10 to +10"
      ]
    },
    {
      "cell_type": "code",
      "metadata": {
        "id": "K6Dz6JdyK8Fs"
      },
      "source": [
        "import numpy as np\r\n",
        "import matplotlib.pyplot as plt"
      ],
      "execution_count": 145,
      "outputs": []
    },
    {
      "cell_type": "code",
      "metadata": {
        "colab": {
          "base_uri": "https://localhost:8080/",
          "height": 283
        },
        "id": "QmUEjIorK_vH",
        "outputId": "0d934c8e-f4fd-4fc2-96d0-6f436f440239"
      },
      "source": [
        "z = np.linspace(-10,10 , 1000)\r\n",
        "def logistic(z):\r\n",
        "  return 1/(1 + np.exp(-z))\r\n",
        "\r\n",
        "vals = logistic(z)\r\n",
        "\r\n",
        "plt.scatter(x=z , y= vals)"
      ],
      "execution_count": 146,
      "outputs": [
        {
          "output_type": "execute_result",
          "data": {
            "text/plain": [
              "<matplotlib.collections.PathCollection at 0x7fa5c8feba58>"
            ]
          },
          "metadata": {
            "tags": []
          },
          "execution_count": 146
        },
        {
          "output_type": "display_data",
          "data": {
            "image/png": "[encoded data removed]",
            "text/plain": [
              "<Figure size 432x288 with 1 Axes>"
            ]
          },
          "metadata": {
            "tags": [],
            "needs_background": "light"
          }
        }
      ]
    },
    {
      "cell_type": "markdown",
      "metadata": {
        "id": "zFD9-h2nL-a9"
      },
      "source": [
        "We can see that the curve quickly flattens beyond +4 , -4. Its overall variation comes from the region in between.\r\n",
        "\r\n",
        "Another thing to note is that it's values are squished between 0 and 1 which is an important property that make this curve usefull for classification problems. Let's take a look at how [Dr Cox](https://en.wikipedia.org/wiki/David_Cox_(statistician)) used this curve."
      ]
    },
    {
      "cell_type": "markdown",
      "metadata": {
        "id": "7T4LYHt5je8_"
      },
      "source": [
        "# Cox and Binary Classification\r\n",
        "\r\n",
        "[Original Paper by Cox](https://www.nuffield.ox.ac.uk/users/cox/cox48.pdf)\r\n",
        "\r\n",
        "In this paper Cox proposes a way to deal with Binary Classification.\r\n",
        "\r\n",
        "He says let there be a labelled dataset $D$ s.t $(x_i , y_i) \\in D$ where $y_i \\in {0,1}$ and $x_i$ can be either continous or categorical.\r\n",
        "\r\n",
        "Now we want to find a mapping between the probability \r\n",
        "$$ \\theta_i = p(y_i = 1) $$\r\n",
        "and the $x_i$ values.\r\n",
        "\r\n",
        "That is we want to learn a function $$ f(x) = P(y=1) $$\r\n",
        "\r\n",
        "He goes on to say that since a linear relation is infeasible, because linear combination leads to $ -\\inf < f(x) < +\\inf$, but since $f(x)$ represents a probability there fore it has to be $ 0 \\le f(x) \\le 1$. Then he proposes - \r\n",
        "\r\n",
        "<center>\r\n",
        "...in the absence of special considerations for a particular problem, the best form seems to be the logistic.\r\n",
        "\r\n",
        "<img src=\"https://user-images.githubusercontent.com/6872080/106193088-094f5d80-617b-11eb-918c-96f9cf228b2d.png\" width=\"70%\"/>\r\n",
        "\r\n",
        " </center>\r\n",
        "\r\n",
        "\r\n",
        " Let's generate a classification dataset and see how this approach works."
      ]
    },
    {
      "cell_type": "code",
      "metadata": {
        "id": "d-qDHKvXpK-r"
      },
      "source": [
        "class Dataset:\r\n",
        "\r\n",
        "  def __init__(self, n = 50, how_far_away = 0.3):\r\n",
        "    n2 = int(n/2)\r\n",
        "    n75 = int(n*0.75)\r\n",
        "    dist = 50\r\n",
        "\r\n",
        "    # Use Random Normal Data\r\n",
        "    self.xa = np.random.normal(100 , 2 , (n2,2))\r\n",
        "    self.xb = np.random.normal(100 + dist*how_far_away , 2 , (n2,2))\r\n",
        "    self.x = np.concatenate((self.xa ,self.xb))\r\n",
        "\r\n",
        "    ## Create labels\r\n",
        "    self.y = np.concatenate((np.ones(n2) , np.zeros(n2)))\r\n",
        "    self.train_idx = np.random.choice(np.arange(0,n) ,n75)\r\n",
        "\r\n",
        "    ## Create train/test partitions\r\n",
        "    self.x_train = self.x[self.train_idx]\r\n",
        "    self.x_test = self.x[~self.train_idx]\r\n",
        "    self.y_train = self.y[self.train_idx]\r\n",
        "    self.y_test = self.y[~self.train_idx]"
      ],
      "execution_count": 213,
      "outputs": []
    },
    {
      "cell_type": "code",
      "metadata": {
        "id": "8FsRd3qfprwq"
      },
      "source": [
        "dataset = Dataset(1000 , 0.1)"
      ],
      "execution_count": 216,
      "outputs": []
    },
    {
      "cell_type": "code",
      "metadata": {
        "colab": {
          "base_uri": "https://localhost:8080/",
          "height": 283
        },
        "id": "DetEFBRFpvbU",
        "outputId": "ffb8c7e0-5394-4636-a36a-a5d6b7ffbbbd"
      },
      "source": [
        "plt.scatter(x=dataset.x_train[:, 0] , y=dataset.x_train[:,1] , c=dataset.y_train)"
      ],
      "execution_count": 217,
      "outputs": [
        {
          "output_type": "execute_result",
          "data": {
            "text/plain": [
              "<matplotlib.collections.PathCollection at 0x7fa5c8de2080>"
            ]
          },
          "metadata": {
            "tags": []
          },
          "execution_count": 217
        },
        {
          "output_type": "display_data",
          "data": {
            "image/png": "[encoded data removed]",
            "text/plain": [
              "<Figure size 432x288 with 1 Axes>"
            ]
          },
          "metadata": {
            "tags": [],
            "needs_background": "light"
          }
        }
      ]
    },
    {
      "cell_type": "markdown",
      "metadata": {
        "id": "tWPekpHrqGs3"
      },
      "source": [
        "Note that the dataset above is not linearly separable and `Perceptron` would have barfed all over this dataset trying to insanely find a hyperplane. \r\n",
        "\r\n",
        "Now we take a random set of $\\beta_i$ and see how logit varies. (We subsume $\\alpha_i$ into the $\\beta$s by adding a constant feature to $x$)"
      ]
    },
    {
      "cell_type": "code",
      "metadata": {
        "colab": {
          "base_uri": "https://localhost:8080/"
        },
        "id": "FLw3KAPgq8rq",
        "outputId": "8331eaac-fb24-46bb-8f4e-5fd6bd284075"
      },
      "source": [
        "X = np.hstack((dataset.x_train , np.ones((dataset.x_train .shape[0] , 1))))\r\n",
        "X.shape"
      ],
      "execution_count": 241,
      "outputs": [
        {
          "output_type": "execute_result",
          "data": {
            "text/plain": [
              "(750, 3)"
            ]
          },
          "metadata": {
            "tags": []
          },
          "execution_count": 241
        }
      ]
    },
    {
      "cell_type": "code",
      "metadata": {
        "colab": {
          "base_uri": "https://localhost:8080/"
        },
        "id": "UJWRHumSqFsO",
        "outputId": "78a67a6c-a747-4d0f-d9f3-56dedfaedd0f"
      },
      "source": [
        "bi = np.random.normal(0,5 , X.shape[1] )\r\n",
        "bi"
      ],
      "execution_count": 242,
      "outputs": [
        {
          "output_type": "execute_result",
          "data": {
            "text/plain": [
              "array([ 7.11662392, -1.99727224, -4.9310733 ])"
            ]
          },
          "metadata": {
            "tags": []
          },
          "execution_count": 242
        }
      ]
    },
    {
      "cell_type": "code",
      "metadata": {
        "id": "K-MmX39zqVZX"
      },
      "source": [
        "def logit(bi , x):\r\n",
        "  return np.dot(x , bi)\r\n",
        "\r\n",
        "def p_y_equals_one(bi  , x):\r\n",
        "  return 1/(1 + np.exp(-logit(bi,x)))"
      ],
      "execution_count": 243,
      "outputs": []
    },
    {
      "cell_type": "code",
      "metadata": {
        "colab": {
          "base_uri": "https://localhost:8080/"
        },
        "id": "tzmhwIl6rMBt",
        "outputId": "4fd67bc0-5671-49e0-939c-c5f4387d705a"
      },
      "source": [
        "logit(bi , X).shape"
      ],
      "execution_count": 244,
      "outputs": [
        {
          "output_type": "execute_result",
          "data": {
            "text/plain": [
              "(750,)"
            ]
          },
          "metadata": {
            "tags": []
          },
          "execution_count": 244
        }
      ]
    },
    {
      "cell_type": "code",
      "metadata": {
        "colab": {
          "base_uri": "https://localhost:8080/"
        },
        "id": "RBonhIcetlyu",
        "outputId": "d5846cba-d147-4f95-af10-775245480622"
      },
      "source": [
        "p_y_equals_one(bi,X)[:10]"
      ],
      "execution_count": 245,
      "outputs": [
        {
          "output_type": "execute_result",
          "data": {
            "text/plain": [
              "array([1., 1., 1., 1., 1., 1., 1., 1., 1., 1.])"
            ]
          },
          "metadata": {
            "tags": []
          },
          "execution_count": 245
        }
      ]
    },
    {
      "cell_type": "markdown",
      "metadata": {
        "id": "C6Vwcyyetqlw"
      },
      "source": [
        "# How to find logistic regression parameters ?\r\n",
        "\r\n",
        "We see that the probability predicted for all our datapoints is 1. Which is because we randomly picked some $\\beta$ values. And hence we have a terrible classifier. We need to `learn` better $\\beta$ values.\r\n",
        "\r\n",
        "Method that is used to do that is `Maximum Likelihood Estimation` (MLE). If you need a refresher please check out [here](https://github.com/abhijeetdtu/ml-scratch/tree/master/notebooks)\r\n",
        "\r\n",
        "For logistic regression we assumed that the probability that a data point has label = 1 is given by\r\n",
        "\r\n",
        "$$ P(Y=1) = \\frac{1}{1 + e^-\\beta^Tx} = \\sigma(B^Tx)$$\r\n",
        "\r\n",
        "The labels that we are predicting are binary, and the output of our logistic regression function is supposed to be the probability that the label is one. This means that we can (and should) interpret each label as a Bernoulli random variable:\r\n",
        "\r\n",
        "Therefore probability of each datapoint now becomes\r\n",
        "\r\n",
        "$$ \\sigma(B^Tx_i)^{y_i} (1-\\sigma(B^Tx_i))^{1-y_i} $$\r\n",
        "\r\n",
        "\r\n",
        "Now according to MLE, the likelihood of observing the entire dataset will be \r\n",
        "\r\n",
        "$$ Likelihood =  \\prod_i \\sigma(B^Tx_i)^{y_i} (1-\\sigma(B^Tx_i))^{1-y_i} $$\r\n",
        "\r\n",
        "Let's shorthand $ \\sigma(B^Tx_i) $ to just $\\sigma$\r\n",
        "\r\n",
        "$$ Likelihood =  \\prod_i \\sigma^{y_i} (1-\\sigma)^{1-y_i} $$\r\n",
        "\r\n",
        "\r\n",
        "Now if we take log on both sides\r\n",
        "\r\n",
        "$$ log(Likelihood) =  \\sum_i log(\\sigma^{y_i}) + log((1-\\sigma)^{1-y_i}) $$\r\n",
        "\r\n",
        "$$ log(Likelihood) =  \\sum_i y_ilog(\\sigma) + (1-y_i)log((1-\\sigma)) $$\r\n",
        "\r\n",
        "\r\n",
        "Now to find the maxima of the log-likelihood function, we proceed to differentiate\r\n",
        "\r\n",
        "$$ \\frac{\\partial{LL}}{\\partial{\\beta}} =  \\sum_i \\frac{y_i}{\\sigma} \\frac{\\partial{\\sigma}}{\\partial{\\beta}} - \\frac{(1-y_i)}{(1-\\sigma)} \\frac{\\partial{\\sigma}}{\\partial{\\beta}}$$\r\n",
        "\r\n",
        "$$ \\frac{\\partial{LL}}{\\partial{\\beta}} =  \\sum_i (\\frac{y_i}{\\sigma} - \\frac{(1-y_i)}{(1-\\sigma)} ) \\frac{\\partial{\\sigma}}{\\partial{\\beta}}$$\r\n",
        "\r\n",
        "$$ \\frac{\\partial{LL}}{\\partial{\\beta}} =  \\sum_i \\frac{y_i - \\sigma}{\\sigma(1-\\sigma)} \\frac{\\partial{\\sigma}}{\\partial{\\beta}}$$\r\n",
        "\r\n",
        "Let's set $$ z = e^-\\beta^Tx_i $$\r\n",
        "\r\n",
        "then \r\n",
        "$$  \\sigma = \\frac{1}{1+z} $$\r\n",
        "therefore $$ (1+z) = \\frac{1}{\\sigma} $$\r\n",
        "or $$ z = \\frac{1-\\sigma}{\\sigma} $$\r\n",
        "\r\n",
        "$$ \\frac{\\partial{\\sigma}}{\\partial{\\beta}} = -\\frac{1}{(1+z)^2} \\frac{\\partial{z}}{\\partial{\\beta}}$$\r\n",
        "\r\n",
        "substituting for (1+z) from above\r\n",
        "\r\n",
        "$$ \\frac{\\partial{\\sigma}}{\\partial{\\beta}} = -\\sigma^2\\frac{\\partial{z}}{\\partial{\\beta}}$$\r\n",
        "\r\n",
        "Now since \r\n",
        "$$ \\frac{\\partial{z}}{\\partial{\\beta}} = x_ie^-\\beta^Tx_i $$\r\n",
        "\r\n",
        "But keep in mind that $$ e^-\\beta^Tx_i = z $$\r\n",
        "therefore equation can be written as\r\n",
        "\r\n",
        "$$ \\frac{\\partial{z}}{\\partial{\\beta}} = x_iz $$\r\n",
        "\r\n",
        "Which makes\r\n",
        "$$ \\frac{\\partial{\\sigma}}{\\partial{\\beta}} = -\\sigma^2 x_iz$$\r\n",
        "\r\n",
        "but z itself is given by \r\n",
        "$$ z = \\frac{1-\\sigma}{\\sigma} $$\r\n",
        "therefore\r\n",
        "\r\n",
        "$$ \\frac{\\partial{\\sigma}}{\\partial{\\beta}} = -x_i\\sigma^2 \\frac{1-\\sigma}{\\sigma}$$\r\n",
        "\r\n",
        "or \r\n",
        "$$ \\frac{\\partial{\\sigma}}{\\partial{\\beta}} = -x_i\\sigma(1-\\sigma)$$\r\n",
        "\r\n",
        "Now substituting back in \r\n",
        "$$ \\frac{\\partial{LL}}{\\partial{\\beta}} =  \\sum_i \\frac{y_i - \\sigma}{\\sigma(1-\\sigma)} \\frac{\\partial{\\sigma}}{\\partial{\\beta}}$$\r\n",
        "\r\n",
        "We get\r\n",
        "\r\n",
        "$$ \\frac{\\partial{LL}}{\\partial{\\beta}} =  \\sum_i x_i(y_i - \\sigma )$$\r\n",
        "\r\n",
        "or \r\n",
        "\r\n",
        "\r\n",
        "$$ \\frac{\\partial{LL}}{\\partial{\\beta}} =  \\sum_i x_i(y_i - \\sigma(\\beta^Tx_i) )$$\r\n",
        "A rather simple equation for such a long derivation!\r\n",
        "\r\n",
        "Now we want to find best values of $\\beta$ , but there is no closed for solution to this equation and therefore we can't set it to zero to find the optimal $\\beta$ values.\r\n",
        "\r\n",
        "How to proceed then ?\r\n",
        "\r\n",
        "In comes **Gradient Descent**\r\n",
        "\r\n"
      ]
    },
    {
      "cell_type": "markdown",
      "metadata": {
        "id": "nVL68r1wpVFO"
      },
      "source": [
        "# Gradient Descent\r\n",
        "\r\n",
        "To solve this equation **Cauchy** proposed in his [paper](https://cs.uwaterloo.ca/~y328yu/classics/cauchy-en.pdf) - \r\n",
        "\r\n",
        "Being given a system of simultaneous equations that the concern is to resolve, one begins ordinarily by reducing them to a single one, by aid of successive eliminations, save to resolve definitely, if it is able, the resulting equation. But it is important to observe, \r\n",
        "\r\n",
        "1. that, in a great number of cases, the elimination is not able to be effected in\r\n",
        "any manner; \r\n",
        "2. that the resulting equation is generally very complicated, even though the given equations are rather simple.\r\n",
        "\r\n",
        "For these two motives, one imagines that it would be very useful to understand a general method which may be able to serve to resolve directly a system of simultaneous equations.\r\n",
        "\r\n",
        "\r\n",
        "### Mathematically\r\n",
        "\r\n",
        "<center>\r\n",
        "\r\n",
        "<img src=\"https://user-images.githubusercontent.com/6872080/106077941-84176a80-60e0-11eb-903e-261010baa673.png\" width=\"90%\"/>\r\n",
        "\r\n",
        "<img src=\"https://user-images.githubusercontent.com/6872080/106077769-284ce180-60e0-11eb-8b92-108b01dc1acd.png\" width=\"80%\"/>\r\n",
        "\r\n",
        "<img src=\"https://user-images.githubusercontent.com/6872080/106079346-0c970a80-60e3-11eb-94c5-79e1a40c259a.png\" width=\"80%\"/>\r\n",
        "\r\n",
        "</center>"
      ]
    },
    {
      "cell_type": "markdown",
      "metadata": {
        "id": "2tJ-az9rnie5"
      },
      "source": [
        "Therefore what we need is to make small changes to $\\beta$ values in the direction of *steepest descent* which is given by the derivative of the $log(Likelihood)$ function , $ \\frac{\\partial{LL}}{\\partial{\\beta}}$. As we make these small changes to $\\beta$ , the $log(likelihood) $ will be maximized and we will be able to find the values of $\\beta$ that make it so.\r\n",
        "\r\n",
        "$\\theta$ above in today's terminology is the `learning rate`. It controls how big a step we are willing to take in the direction of the `gradient`\r\n",
        "\r\n",
        "Let's code up our `Gradient Descent` class. Thing to note is that this class takes as input the function that calculates gradient of the log-likelihood function with respect to betas. This is the function we calculated above in our derivations."
      ]
    },
    {
      "cell_type": "code",
      "metadata": {
        "id": "oPIOVHjz4VIW"
      },
      "source": [
        "class GradientDescent:\r\n",
        "  def __init__(self ,derivative_fn,learning_rate = 1e-2):\r\n",
        "    self.lr = learning_rate\r\n",
        "    self.dll_dbeta = derivative_fn\r\n",
        "\r\n",
        "  def fit(self , X , y , betas):\r\n",
        "    \r\n",
        "    while True:\r\n",
        "      gradient = self.dll_dbeta(X , y , betas)\r\n",
        "      betas -= self.lr*gradient\r\n",
        "      if np.linalg.norm(gradient) < 1:\r\n",
        "        break\r\n",
        "    \r\n",
        "    return betas"
      ],
      "execution_count": 248,
      "outputs": []
    },
    {
      "cell_type": "markdown",
      "metadata": {
        "id": "psKihhDt4ovY"
      },
      "source": [
        "Now let's code up the `LogisticRegression` class. This class will use the `GradientDescent` class we just created to find the best $\\beta$s. This encapsulates the `gradient\\derivative` function as well.\r\n",
        "\r\n",
        "While making predictions , the LR class calculates $P(y=1|x)$ and if its greater than 0.5 predicts label `1` else `0`.\r\n",
        "\r\n",
        "## NOTE\r\n",
        "An important thing to note is this line below \r\n",
        "\r\n",
        "`X = (X- X.mean()) / X.std()`\r\n",
        "\r\n",
        "This is where we are standardizing our X variable. This is important to prevent **Exploding** and **Vanishing** gradients. Why this happens is because in our sigmoid funcion we have $e^{-z}$ and now if z becomes too large or too small then $e^{-z}$ becomes almost 0 (vanishes) or can become almost $+inf$ (explodes). To avoid this we push `X` into a manageable region of `[0,1]` by standardizing it."
      ]
    },
    {
      "cell_type": "code",
      "metadata": {
        "id": "ZroahmM4pWaR"
      },
      "source": [
        "class LogisticRegression:\r\n",
        "  \r\n",
        "  def sigmoid(self,z):\r\n",
        "    return 1/(1+np.exp(-z))\r\n",
        "\r\n",
        "  def derivative_function(self,X,y,betas):\r\n",
        "    probability = self.sigmoid(np.dot(X , betas))\r\n",
        "    residual = (probability-y).reshape(-1,1)\r\n",
        "    return np.sum(np.multiply( X ,residual ) , 0)\r\n",
        "    \r\n",
        "  def fit(self, X , y):\r\n",
        "    X = (X- X.mean()) / X.std()\r\n",
        "\r\n",
        "    self.betas = np.random.normal(0,1,X.shape[1])\r\n",
        "    gd = GradientDescent(self.derivative_function)\r\n",
        "    gd.fit(X,y , self.betas)\r\n",
        "\r\n",
        "  def predict(self,X):\r\n",
        "    X = (X- X.mean()) / X.std()\r\n",
        "    return np.round(self.sigmoid(np.dot(X, self.betas)) , 0)\r\n"
      ],
      "execution_count": 260,
      "outputs": []
    },
    {
      "cell_type": "markdown",
      "metadata": {
        "id": "oPVgHDoc5Akh"
      },
      "source": [
        "Let's test the derivative function once to make sure it returns a (3,1) gradient , one for each feature ( including the constant feature) we have."
      ]
    },
    {
      "cell_type": "code",
      "metadata": {
        "colab": {
          "base_uri": "https://localhost:8080/"
        },
        "id": "Ea6Akif7rRX4",
        "outputId": "0d6cc8f8-7d32-4cef-9c55-520779149893"
      },
      "source": [
        "LogisticRegression().derivative_function(X,dataset.y_train,np.random.normal(0,1,3))"
      ],
      "execution_count": 261,
      "outputs": [
        {
          "output_type": "execute_result",
          "data": {
            "text/plain": [
              "array([-38355.58424071, -38356.70427527,   -383.        ])"
            ]
          },
          "metadata": {
            "tags": []
          },
          "execution_count": 261
        }
      ]
    },
    {
      "cell_type": "markdown",
      "metadata": {
        "id": "D1Dy2MEq5a8b"
      },
      "source": [
        "Alright! Let's get cracking and find the best parameters and then evaluate our model performance on the `Test Set`."
      ]
    },
    {
      "cell_type": "code",
      "metadata": {
        "id": "ebCmlXFbrTC2"
      },
      "source": [
        "lr = LogisticRegression()"
      ],
      "execution_count": 262,
      "outputs": []
    },
    {
      "cell_type": "code",
      "metadata": {
        "id": "sz3Lpb7hs47a"
      },
      "source": [
        "lr.fit(X,dataset.y_train)"
      ],
      "execution_count": 263,
      "outputs": []
    },
    {
      "cell_type": "code",
      "metadata": {
        "id": "wn10ZhxBs9rc"
      },
      "source": [
        "from sklearn.metrics import accuracy_score"
      ],
      "execution_count": 264,
      "outputs": []
    },
    {
      "cell_type": "code",
      "metadata": {
        "colab": {
          "base_uri": "https://localhost:8080/"
        },
        "id": "Q5TjLSBZzUhP",
        "outputId": "42269888-32a9-4c3b-9595-f4cc32f08e41"
      },
      "source": [
        "accuracy_score(dataset.y_train ,lr.predict(X))"
      ],
      "execution_count": 265,
      "outputs": [
        {
          "output_type": "execute_result",
          "data": {
            "text/plain": [
              "0.9573333333333334"
            ]
          },
          "metadata": {
            "tags": []
          },
          "execution_count": 265
        }
      ]
    },
    {
      "cell_type": "markdown",
      "metadata": {
        "id": "W5RCzS5N6GWf"
      },
      "source": [
        "Awesome! We see that 95% of the examples in the training set have been correcly classfied. But what about the test set ?"
      ]
    },
    {
      "cell_type": "code",
      "metadata": {
        "colab": {
          "base_uri": "https://localhost:8080/"
        },
        "id": "LML_Qyw00D0t",
        "outputId": "9f3e8d0d-8c8d-42df-a229-45f743aca4a9"
      },
      "source": [
        "x_test_stacked = np.hstack((dataset.x_test , np.ones((dataset.x_test.shape[0],1))))\r\n",
        "accuracy_score(dataset.y_test ,lr.predict(x_test_stacked))"
      ],
      "execution_count": 266,
      "outputs": [
        {
          "output_type": "execute_result",
          "data": {
            "text/plain": [
              "0.9466666666666667"
            ]
          },
          "metadata": {
            "tags": []
          },
          "execution_count": 266
        }
      ]
    },
    {
      "cell_type": "markdown",
      "metadata": {
        "id": "FeJgXSyi6NMb"
      },
      "source": [
        "We see that the test set performance, though lower (as expected), is pretty close to the training set!"
      ]
    }
  ]
}