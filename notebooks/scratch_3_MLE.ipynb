{
  "nbformat": 4,
  "nbformat_minor": 0,
  "metadata": {
    "colab": {
      "name": "scratch-3-MLE.ipynb",
      "provenance": [],
      "collapsed_sections": []
    },
    "kernelspec": {
      "name": "python3",
      "display_name": "Python 3"
    },
    "widgets": {
      "application/vnd.jupyter.widget-state+json": {
        "c3f2fa4e5c46409ebae0e0f3ecef10dd": {
          "model_module": "@jupyter-widgets/controls",
          "model_name": "VBoxModel",
          "state": {
            "_view_name": "VBoxView",
            "_dom_classes": [
              "widget-interact"
            ],
            "_model_name": "VBoxModel",
            "_view_module": "@jupyter-widgets/controls",
            "_model_module_version": "1.5.0",
            "_view_count": null,
            "_view_module_version": "1.5.0",
            "box_style": "",
            "layout": "IPY_MODEL_50f0a444ad214856ab780ba69aaa0521",
            "_model_module": "@jupyter-widgets/controls",
            "children": [
              "IPY_MODEL_98f4d399c90145b7939f96b80244e3ce",
              "IPY_MODEL_ce4236afd3a44617922cd7e37f9cc943",
              "IPY_MODEL_5893c4e678a44f74b4b01d786dca04ea"
            ]
          }
        },
        "50f0a444ad214856ab780ba69aaa0521": {
          "model_module": "@jupyter-widgets/base",
          "model_name": "LayoutModel",
          "state": {
            "_view_name": "LayoutView",
            "grid_template_rows": null,
            "right": null,
            "justify_content": null,
            "_view_module": "@jupyter-widgets/base",
            "overflow": null,
            "_model_module_version": "1.2.0",
            "_view_count": null,
            "flex_flow": null,
            "width": null,
            "min_width": null,
            "border": null,
            "align_items": null,
            "bottom": null,
            "_model_module": "@jupyter-widgets/base",
            "top": null,
            "grid_column": null,
            "overflow_y": null,
            "overflow_x": null,
            "grid_auto_flow": null,
            "grid_area": null,
            "grid_template_columns": null,
            "flex": null,
            "_model_name": "LayoutModel",
            "justify_items": null,
            "grid_row": null,
            "max_height": null,
            "align_content": null,
            "visibility": null,
            "align_self": null,
            "height": null,
            "min_height": null,
            "padding": null,
            "grid_auto_rows": null,
            "grid_gap": null,
            "max_width": null,
            "order": null,
            "_view_module_version": "1.2.0",
            "grid_template_areas": null,
            "object_position": null,
            "object_fit": null,
            "grid_auto_columns": null,
            "margin": null,
            "display": null,
            "left": null
          }
        },
        "98f4d399c90145b7939f96b80244e3ce": {
          "model_module": "@jupyter-widgets/controls",
          "model_name": "IntSliderModel",
          "state": {
            "_view_name": "IntSliderView",
            "style": "IPY_MODEL_415d7fd2325c4169857ef0dc876a8581",
            "_dom_classes": [],
            "description": "mean",
            "step": 1,
            "_model_name": "IntSliderModel",
            "orientation": "horizontal",
            "max": 10,
            "_view_module": "@jupyter-widgets/controls",
            "_model_module_version": "1.5.0",
            "value": -5,
            "_view_count": null,
            "disabled": false,
            "_view_module_version": "1.5.0",
            "min": -5,
            "continuous_update": true,
            "readout_format": "d",
            "description_tooltip": null,
            "readout": true,
            "_model_module": "@jupyter-widgets/controls",
            "layout": "IPY_MODEL_503eab69a1cc4ad4b5f198f9f9b14def"
          }
        },
        "ce4236afd3a44617922cd7e37f9cc943": {
          "model_module": "@jupyter-widgets/controls",
          "model_name": "IntSliderModel",
          "state": {
            "_view_name": "IntSliderView",
            "style": "IPY_MODEL_5e94da27f2e3417abb8752e1cbbd9e6c",
            "_dom_classes": [],
            "description": "std",
            "step": 1,
            "_model_name": "IntSliderModel",
            "orientation": "horizontal",
            "max": 10,
            "_view_module": "@jupyter-widgets/controls",
            "_model_module_version": "1.5.0",
            "value": 5,
            "_view_count": null,
            "disabled": false,
            "_view_module_version": "1.5.0",
            "min": 1,
            "continuous_update": true,
            "readout_format": "d",
            "description_tooltip": null,
            "readout": true,
            "_model_module": "@jupyter-widgets/controls",
            "layout": "IPY_MODEL_b2b99a25a09a425b9420f021a1b84214"
          }
        },
        "5893c4e678a44f74b4b01d786dca04ea": {
          "model_module": "@jupyter-widgets/output",
          "model_name": "OutputModel",
          "state": {
            "_view_name": "OutputView",
            "msg_id": "",
            "_dom_classes": [],
            "_model_name": "OutputModel",
            "outputs": [
              {
                "output_type": "display_data",
                "metadata": {
                  "tags": []
                },
                "image/png": "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\n",
                "text/plain": "<Figure size 640x480 with 1 Axes>"
              },
              {
                "output_type": "display_data",
                "metadata": {
                  "tags": []
                },
                "text/plain": "<ggplot: (8740768633096)>"
              }
            ],
            "_view_module": "@jupyter-widgets/output",
            "_model_module_version": "1.0.0",
            "_view_count": null,
            "_view_module_version": "1.0.0",
            "layout": "IPY_MODEL_6e7c3fc94a2b4fcc957057bc6b9a28f4",
            "_model_module": "@jupyter-widgets/output"
          }
        },
        "415d7fd2325c4169857ef0dc876a8581": {
          "model_module": "@jupyter-widgets/controls",
          "model_name": "SliderStyleModel",
          "state": {
            "_view_name": "StyleView",
            "handle_color": null,
            "_model_name": "SliderStyleModel",
            "description_width": "",
            "_view_module": "@jupyter-widgets/base",
            "_model_module_version": "1.5.0",
            "_view_count": null,
            "_view_module_version": "1.2.0",
            "_model_module": "@jupyter-widgets/controls"
          }
        },
        "503eab69a1cc4ad4b5f198f9f9b14def": {
          "model_module": "@jupyter-widgets/base",
          "model_name": "LayoutModel",
          "state": {
            "_view_name": "LayoutView",
            "grid_template_rows": null,
            "right": null,
            "justify_content": null,
            "_view_module": "@jupyter-widgets/base",
            "overflow": null,
            "_model_module_version": "1.2.0",
            "_view_count": null,
            "flex_flow": null,
            "width": null,
            "min_width": null,
            "border": null,
            "align_items": null,
            "bottom": null,
            "_model_module": "@jupyter-widgets/base",
            "top": null,
            "grid_column": null,
            "overflow_y": null,
            "overflow_x": null,
            "grid_auto_flow": null,
            "grid_area": null,
            "grid_template_columns": null,
            "flex": null,
            "_model_name": "LayoutModel",
            "justify_items": null,
            "grid_row": null,
            "max_height": null,
            "align_content": null,
            "visibility": null,
            "align_self": null,
            "height": null,
            "min_height": null,
            "padding": null,
            "grid_auto_rows": null,
            "grid_gap": null,
            "max_width": null,
            "order": null,
            "_view_module_version": "1.2.0",
            "grid_template_areas": null,
            "object_position": null,
            "object_fit": null,
            "grid_auto_columns": null,
            "margin": null,
            "display": null,
            "left": null
          }
        },
        "5e94da27f2e3417abb8752e1cbbd9e6c": {
          "model_module": "@jupyter-widgets/controls",
          "model_name": "SliderStyleModel",
          "state": {
            "_view_name": "StyleView",
            "handle_color": null,
            "_model_name": "SliderStyleModel",
            "description_width": "",
            "_view_module": "@jupyter-widgets/base",
            "_model_module_version": "1.5.0",
            "_view_count": null,
            "_view_module_version": "1.2.0",
            "_model_module": "@jupyter-widgets/controls"
          }
        },
        "b2b99a25a09a425b9420f021a1b84214": {
          "model_module": "@jupyter-widgets/base",
          "model_name": "LayoutModel",
          "state": {
            "_view_name": "LayoutView",
            "grid_template_rows": null,
            "right": null,
            "justify_content": null,
            "_view_module": "@jupyter-widgets/base",
            "overflow": null,
            "_model_module_version": "1.2.0",
            "_view_count": null,
            "flex_flow": null,
            "width": null,
            "min_width": null,
            "border": null,
            "align_items": null,
            "bottom": null,
            "_model_module": "@jupyter-widgets/base",
            "top": null,
            "grid_column": null,
            "overflow_y": null,
            "overflow_x": null,
            "grid_auto_flow": null,
            "grid_area": null,
            "grid_template_columns": null,
            "flex": null,
            "_model_name": "LayoutModel",
            "justify_items": null,
            "grid_row": null,
            "max_height": null,
            "align_content": null,
            "visibility": null,
            "align_self": null,
            "height": null,
            "min_height": null,
            "padding": null,
            "grid_auto_rows": null,
            "grid_gap": null,
            "max_width": null,
            "order": null,
            "_view_module_version": "1.2.0",
            "grid_template_areas": null,
            "object_position": null,
            "object_fit": null,
            "grid_auto_columns": null,
            "margin": null,
            "display": null,
            "left": null
          }
        },
        "6e7c3fc94a2b4fcc957057bc6b9a28f4": {
          "model_module": "@jupyter-widgets/base",
          "model_name": "LayoutModel",
          "state": {
            "_view_name": "LayoutView",
            "grid_template_rows": null,
            "right": null,
            "justify_content": null,
            "_view_module": "@jupyter-widgets/base",
            "overflow": null,
            "_model_module_version": "1.2.0",
            "_view_count": null,
            "flex_flow": null,
            "width": null,
            "min_width": null,
            "border": null,
            "align_items": null,
            "bottom": null,
            "_model_module": "@jupyter-widgets/base",
            "top": null,
            "grid_column": null,
            "overflow_y": null,
            "overflow_x": null,
            "grid_auto_flow": null,
            "grid_area": null,
            "grid_template_columns": null,
            "flex": null,
            "_model_name": "LayoutModel",
            "justify_items": null,
            "grid_row": null,
            "max_height": null,
            "align_content": null,
            "visibility": null,
            "align_self": null,
            "height": null,
            "min_height": null,
            "padding": null,
            "grid_auto_rows": null,
            "grid_gap": null,
            "max_width": null,
            "order": null,
            "_view_module_version": "1.2.0",
            "grid_template_areas": null,
            "object_position": null,
            "object_fit": null,
            "grid_auto_columns": null,
            "margin": null,
            "display": null,
            "left": null
          }
        }
      }
    }
  },
  "cells": [
    {
      "cell_type": "markdown",
      "metadata": {
        "id": "uY_QejVRRjZV"
      },
      "source": [
        "# Maximum Likelihood Estimation\r\n",
        "\r\n",
        "## 1. Maximum Likelihood\r\n",
        "\r\n",
        "### Historical (De)tour\r\n",
        "\r\n",
        "Who would rise to argue in favor of a method of minimum likelihood, or even mediocre likelihood? And yet the mathematical history of MLE shows this “simple idea” is really anything but simple. \r\n",
        "\r\n",
        "**Lagrange**, **Bernoulli**, **Euler**, **Laplace** and **Gauss** are only some of those who explored the topic, not always in ways we would sanction today.\r\n",
        "\r\n",
        "For all its turbulent past, maximum likelihood has survived\r\n",
        "numerous assaults and remains a beautiful, if increasingly complicated theory.\r\n",
        "\r\n",
        "[Source:Stigler](https://arxiv.org/pdf/0804.2996.pdf)\r\n",
        "\r\n",
        "### Mathematical Overview\r\n",
        "\r\n",
        "**Fisher** first presented the idea in [1912](http://tankona.free.fr/fisher1912.pdf), that too in surprisingly few lines.\r\n",
        "\r\n",
        "<center>\r\n",
        "\r\n",
        "<img src=\"https://user-images.githubusercontent.com/6872080/106067506-ccc52880-60cc-11eb-97e8-b6579b5dbcad.png\" width=\"50%\">\r\n",
        "\r\n",
        "</center>\r\n",
        "\r\n",
        "### Deeper Dive\r\n",
        "Let's break it down\r\n",
        "\r\n",
        "So $f$ or $f(x)$ is the function, whose parameters ($\\theta$) we want to estimate.\r\n",
        "\r\n",
        "Probability of observing a small change in our features $(x)$ is given by\r\n",
        "$$ p = f(x)*dx $$\r\n",
        "\r\n",
        "Now since we have $n$ observations in our dataset , each being $i.i.d$ (independently and identically drawn from the same distribution), therefore probability of observing the changes in the entire dataset will be a product of individual observations\r\n",
        "\r\n",
        "$$ P^` = \\prod_{i=1}^{n} f(x)*dx $$\r\n",
        "\r\n",
        "Now taking log on both sides\r\n",
        "\r\n",
        "$$ log(P^`) = \\sum_{i=1}^{n} log(f(x)) + log(dx) $$\r\n",
        "\r\n",
        "Now since $dx$ doesn't depend on the parameters and the function, it's simply a constant and won't change as we change the parameters of $f(x)$\r\n",
        "\r\n",
        "Therefore we get\r\n",
        "\r\n",
        "$$ log(P^`) \\propto \\sum_{i=1}^{n} log(f(x)) $$\r\n",
        "\r\n",
        "*Fisher* calls the summation term on the right $log(P)$.\r\n",
        "\r\n",
        "Now if we find $\\theta $ for $ f(x) $ such that $\\sum_{i=1}^{n} log(f(x)) $ is maximized, then in turn $log(P^`)$ will be maximized which is essentially the *likelihood* of observing the dataset we have.\r\n",
        "\r\n",
        "Therefore the pursuit is to find parameters for the function that maximize the likelihood of observing the dataset.\r\n",
        "\r\n",
        "\r\n",
        "Let's get a better understanding using visualizations.\r\n",
        "\r\n",
        "Lets generate some 1-d data from a known normal distribution with mean 0 and standard deviation of 10.\r\n",
        "\r\n",
        "We also generate data from two other distributions with different means and standard deviations to make our point.\r\n"
      ]
    },
    {
      "cell_type": "code",
      "metadata": {
        "id": "NScz3FWIRebr"
      },
      "source": [
        "import numpy as np\r\n",
        "import matplotlib.pyplot as plt\r\n",
        "from plotnine import *\r\n",
        "import pandas as pd"
      ],
      "execution_count": 28,
      "outputs": []
    },
    {
      "cell_type": "code",
      "metadata": {
        "id": "Cz6kwBsbXn5w"
      },
      "source": [
        "x = np.random.normal(0,10 , 1000)\r\n",
        "\r\n",
        "pa = np.random.normal(-5,7 , 1000)\r\n",
        "pb = np.random.normal(15,2 , 1000)\r\n",
        "\r\n",
        "pldf = pd.DataFrame({\"x\" : x , \"pa\" : pa , \"pb\" : pb , \"y\" : np.ones_like(x)*0.01})"
      ],
      "execution_count": 29,
      "outputs": []
    },
    {
      "cell_type": "code",
      "metadata": {
        "colab": {
          "base_uri": "https://localhost:8080/",
          "height": 283
        },
        "id": "M3qCMoHDXsez",
        "outputId": "7dd0388d-836d-43f3-89fe-6734434e777c"
      },
      "source": [
        "plt.scatter(x , np.ones_like(x))"
      ],
      "execution_count": 30,
      "outputs": [
        {
          "output_type": "execute_result",
          "data": {
            "text/plain": [
              "<matplotlib.collections.PathCollection at 0x7f784c6db908>"
            ]
          },
          "metadata": {
            "tags": []
          },
          "execution_count": 30
        },
        {
          "output_type": "display_data",
          "data": {
            "image/png": "[encoded data removed]",
            "text/plain": [
              "<Figure size 432x288 with 1 Axes>"
            ]
          },
          "metadata": {
            "tags": [],
            "needs_background": "light"
          }
        }
      ]
    },
    {
      "cell_type": "code",
      "metadata": {
        "colab": {
          "base_uri": "https://localhost:8080/",
          "height": 465
        },
        "id": "Bc-JQj_5X0S0",
        "outputId": "7cf2fc23-da2d-4f60-b59a-16fd77379d41"
      },
      "source": [
        "(\r\n",
        "    ggplot(pldf )\r\n",
        "    + geom_jitter(aes(x=\"x\" , y=\"y\") , height=0.001)\r\n",
        "    + geom_density(aes(x=\"x\") , color=\"green\")\r\n",
        "    + geom_density(aes(x=\"pa\") , color=\"blue\")\r\n",
        "    + geom_density(aes(x=\"pb\") , color=\"yellow\")\r\n",
        "    + theme_bw()\r\n",
        ")"
      ],
      "execution_count": 31,
      "outputs": [
        {
          "output_type": "display_data",
          "data": {
            "image/png": "[encoded data removed]",
            "text/plain": [
              "<Figure size 640x480 with 1 Axes>"
            ]
          },
          "metadata": {
            "tags": []
          }
        },
        {
          "output_type": "execute_result",
          "data": {
            "text/plain": [
              "<ggplot: (8759665947228)>"
            ]
          },
          "metadata": {
            "tags": []
          },
          "execution_count": 31
        }
      ]
    },
    {
      "cell_type": "markdown",
      "metadata": {
        "id": "KFHNw53UaPSL"
      },
      "source": [
        "NOW suppose you were asked that having seen the figure above, which distribution ,`green`, `blue` or `yellow` do you think generated the data points (black dots) ? \r\n",
        "\r\n",
        "Since mean of `yellow` seems too far to the right of the mean of the dots, it's `unlikely` that it would have generated our points. With similar reasoning we can reject `blue` as well.\r\n",
        "\r\n",
        "`Green` seems to be centered over the data points and coveres almost all of them symmetrically.\r\n",
        "\r\n",
        "Therefore `best` bet would be the `green` one.\r\n",
        "\r\n",
        "This is exactly the intuition of `MLE`! \r\n",
        "Instead of visually, mathematically we want to find the best parameters for our distribution that maximize the likelihood of seeing the data that we have at hand.\r\n",
        "\r\n",
        "### Iteractive Intuition\r\n",
        "\r\n",
        "Okay we can do even better, let's build our intuition using interactive visualization.\r\n",
        "\r\n",
        "Below try finding the values for `mean` and `std` for which the log-likelihood (LL) is maximized. Try playing with one parameter at a time, fixing it's value to one where LL is maximized"
      ]
    },
    {
      "cell_type": "code",
      "metadata": {
        "id": "2eQnL3ceYfd5"
      },
      "source": [
        "from scipy.stats import norm"
      ],
      "execution_count": 32,
      "outputs": []
    },
    {
      "cell_type": "code",
      "metadata": {
        "id": "oxTxuMEMeJgM"
      },
      "source": [
        "from ipywidgets import interact, interactive, fixed, interact_manual\r\n",
        "import ipywidgets as widgets"
      ],
      "execution_count": null,
      "outputs": []
    },
    {
      "cell_type": "code",
      "metadata": {
        "colab": {
          "base_uri": "https://localhost:8080/",
          "height": 572,
          "referenced_widgets": [
            "c3f2fa4e5c46409ebae0e0f3ecef10dd",
            "50f0a444ad214856ab780ba69aaa0521",
            "98f4d399c90145b7939f96b80244e3ce",
            "ce4236afd3a44617922cd7e37f9cc943",
            "5893c4e678a44f74b4b01d786dca04ea",
            "415d7fd2325c4169857ef0dc876a8581",
            "503eab69a1cc4ad4b5f198f9f9b14def",
            "5e94da27f2e3417abb8752e1cbbd9e6c",
            "b2b99a25a09a425b9420f021a1b84214",
            "6e7c3fc94a2b4fcc957057bc6b9a28f4"
          ]
        },
        "id": "fOk-YlJFeT_h",
        "outputId": "52acac94-5bec-4dde-d89f-da6539c2d0c6"
      },
      "source": [
        "def log_likelihood(mean , std):\r\n",
        "  px = norm(mean,std)\r\n",
        "  pldf = pd.DataFrame({\"x\" : x, \"sx\" : np.random.normal(mean,std,1000) , \"y\" : np.ones_like(x)*0.001})\r\n",
        "  ll= np.sum(np.log(np.array([px.pdf(xi) for xi in x])))\r\n",
        "  return (\r\n",
        "    ggplot(pldf )\r\n",
        "    + geom_jitter(aes(x=\"x\" , y=\"y\") , height=0.001)\r\n",
        "    + geom_density(aes(x=\"sx\") , color=\"green\")\r\n",
        "    + theme_bw()\r\n",
        "    + ggtitle(f\"Log-Likelihood : {ll}\")\r\n",
        "    + scale_x_continuous(limits=(np.min(x) - 50 , np.max(x) + 50))\r\n",
        "  )\r\n",
        "\r\n",
        "interact(log_likelihood \r\n",
        "         , mean=widgets.IntSlider(min=-5, max=10, step=1, value=5) \r\n",
        "         , std=widgets.IntSlider(min=1, max=10, step=1, value=5))"
      ],
      "execution_count": null,
      "outputs": [
        {
          "output_type": "display_data",
          "data": {
            "application/vnd.jupyter.widget-view+json": {
              "model_id": "c3f2fa4e5c46409ebae0e0f3ecef10dd",
              "version_minor": 0,
              "version_major": 2
            },
            "text/plain": [
              "interactive(children=(IntSlider(value=5, description='mean', max=10, min=-5), IntSlider(value=5, description='…"
            ]
          },
          "metadata": {
            "tags": []
          }
        },
        {
          "output_type": "execute_result",
          "data": {
            "text/plain": [
              "<function __main__.log_likelihood>"
            ]
          },
          "metadata": {
            "tags": []
          },
          "execution_count": 42
        }
      ]
    },
    {
      "cell_type": "markdown",
      "metadata": {
        "id": "0gRzy94tkQn9"
      },
      "source": [
        "Important thing to note here is that LL gets maximized when the mean is set to 0 and std is set to 10, which are exactly the parameters of the normal distribution that generated the data point!\r\n",
        "\r\n",
        "Okay but we cheated here, sort of. We visually tried different values for the parameters ($\\theta$) from a very small set. But in practice the parameters are real valued and therefore we need a mathematical / algorithmic way to find exactly what these parameters are.\r\n",
        "\r\n",
        "## Finding the parameters\r\n",
        "\r\n",
        "So... We want to maximize log-likelihood. Now one thing that we have learnt is that when maximizing a function , we take it's derivative and set it to zero.\r\n",
        "\r\n",
        "$$ f(x) = LL^`(x) = 0 $$\r\n",
        "\r\n",
        "which is really \r\n",
        "$$ \\frac{ \\partial f}{\\partial \\theta}  = 0  $$\r\n",
        "\r\n",
        "\r\n",
        "\r\n",
        "Now let's try to implement this for our earlier problem of finding $\\mu$ and $\\sigma$ of the normal distribution from which we have assumed that the data comes.\r\n",
        "\r\n",
        "$$ X \\sim \\mathcal{N}(\\mu  ,\\sigma^2)$$\r\n",
        "\r\n",
        "\r\n",
        "Which is further defined by\r\n",
        "\r\n",
        "$$ \\mathcal{N} = \\frac{1}{2\\pi\\sigma^2} e^-\\frac{(x-\\mu)^2}{\\sigma^2} $$\r\n",
        "\r\n",
        "Now the Log-Liklihood of obversing $i.i.d$ data from this distribution will be\r\n",
        "\r\n",
        "$$ \\sum_i{g(x_i)} $$ \r\n",
        "\r\n",
        "where $$ g(x_i) = log(\\mathcal{F_x(x ; \\mu , \\sigma^2)}) $$\r\n",
        "\r\n",
        "\r\n",
        "### Theoretical Proof\r\n",
        "\r\n",
        "Now using the insight from above we have to find derivative of the function with respect to both parameters , $\\mu$ and $\\sigma$\r\n",
        "\r\n",
        "1. For $\\mu$ it is a bit straightforward and turns out to be\r\n",
        "\r\n",
        "Let $$ \\phi_i = \\frac{(x_i-\\mu)}{\\sigma}  $$\r\n",
        "then\r\n",
        "$$ LL = \\sum_i log( \\frac{1}{\\sqrt{2\\pi\\sigma^2}}e^-\\frac{\\phi_i^2}{2}) $$\r\n",
        "\r\n",
        "$$ LL = \\sum_i log( 1) - log({\\sqrt{2\\pi\\sigma^2}}) + log(e^-\\frac{\\phi_i^2}{2}) $$\r\n",
        "\r\n",
        "$$ LL = \\sum_i - log({\\sqrt{2\\pi\\sigma^2}}) + -\\frac{\\phi_i^2}{2} $$\r\n",
        "\r\n",
        "\r\n",
        "$$ \\frac{\\partial{LL}}{\\partial{\\phi}} = \\sum_i -2*\\frac{\\phi_i}{2} $$\r\n",
        "setting it to 0, we get\r\n",
        "\r\n",
        "$$ - \\sum_i \\phi_i = 0 $$ \r\n",
        "\r\n",
        "$$ - \\sum_i \\frac{(x_i - \\mu)}{\\sigma} = 0 $$ \r\n",
        "$$ - \\sum_i (x_i - \\mu) = 0 $$ \r\n",
        "$$ - \\sum_i(x_i) +n\\mu = 0 $$ where n is the number of observations in the dataset\r\n",
        "\r\n",
        "$$ \\mu = \\frac{\\sum_i(x_i)}{n} $$\r\n",
        "\r\n",
        "WAIT WHAT! that's just the sample mean!!\r\n",
        "SO MLE estimate of the mean of the distribution is just the sample mean!\r\n",
        "\r\n",
        "2. For $\\sigma$\r\n",
        "\r\n",
        "$$ LL = \\sum_i log( \\frac{1}{\\sqrt{2\\pi\\sigma^2}}e^-\\frac{\\phi_i^2}{2}) $$\r\n",
        "\r\n",
        "$$ LL = \\sum_i log( 1) - log({\\sqrt{2\\pi\\sigma^2}}) + log(e^-\\frac{\\phi_i^2}{2}) $$\r\n",
        "\r\n",
        "$$ LL = \\sum_i - log({\\sqrt{2\\pi\\sigma^2}}) + -\\frac{\\phi_i^2}{2} $$\r\n",
        "\r\n",
        "$$ LL = \\sum_i - log(\\sqrt{2\\pi}) -log(\\sigma) + -\\frac{\\phi_i^2}{2} $$\r\n",
        "\r\n",
        "$$ \\frac{\\partial{LL}}{\\partial{\\sigma}} = \\sum_i -\\frac{1}{\\sigma} + -2*\\frac{\\phi_i}{2} \\frac{\\partial{\\phi}}{\\partial{\\sigma}}$$\r\n",
        "\r\n",
        "$$ \\frac{\\partial{\\phi}}{\\partial{\\sigma}} = -\\frac{(x-u)}{\\sigma^2}$$\r\n",
        "\r\n",
        "Therefore \r\n",
        "\r\n",
        "$$ \\frac{\\partial{LL}}{\\partial{\\sigma}} = \\sum_i -\\frac{1}{\\sigma} + \\frac{(x-u)}{\\sigma} \\frac{(x-u)}{\\sigma^2}$$\r\n",
        "\r\n",
        "Now setting the equation to 0\r\n",
        "\r\n",
        "$$ \\sum_i -\\frac{1}{\\sigma} + \\frac{(x-u)}{\\sigma} \\frac{(x-u)}{\\sigma^2} = 0$$\r\n",
        "\r\n",
        "$$ \\sum_i -\\frac{1}{\\sigma} + \\frac{(x-u)}{\\sigma \\sigma^2}^2 = 0$$\r\n",
        "\r\n",
        "$$ \\sum_i -\\frac{1}{\\sigma} ( 1 + \\frac{(x-u)}{\\sigma^2}^2)= 0$$\r\n",
        "\r\n",
        "$$ \\sum_i ( -1 + \\frac{(x-u)}{\\sigma^2}^2)= 0$$\r\n",
        "\r\n",
        "$$ \\sum_i ( -1) + \\sum_i \\frac{(x-u)}{\\sigma^2}^2= 0$$\r\n",
        "\r\n",
        "$$ -n + \\sum_i \\frac{1}{\\sigma^2} (x-u)^2= 0$$\r\n",
        "\r\n",
        "\r\n",
        "$$ -n + \\frac{1}{\\sigma^2} \\sum_i (x-u)^2= 0$$\r\n",
        "\r\n",
        "$$ \\sum_i (x-u)^2= n\\sigma^2$$\r\n",
        "\r\n",
        "$$  \\sigma^2 = \\frac{1}{n}\\sum_i (x-u)^2$$\r\n",
        "\r\n",
        "WAIT WHAT AGAIN! that's just the sample variance!!\r\n",
        "SO MLE estimate of the variance of the distribution is just the sample variance!\r\n",
        "\r\n",
        "Now we know how to estimate the mean and standard deviation directly from the data\r\n"
      ]
    },
    {
      "cell_type": "code",
      "metadata": {
        "colab": {
          "base_uri": "https://localhost:8080/"
        },
        "id": "VT2DuUGdvGnd",
        "outputId": "63135047-890a-420f-83de-f401685d6b9c"
      },
      "source": [
        "np.mean(x)"
      ],
      "execution_count": 33,
      "outputs": [
        {
          "output_type": "execute_result",
          "data": {
            "text/plain": [
              "0.02370665701385377"
            ]
          },
          "metadata": {
            "tags": []
          },
          "execution_count": 33
        }
      ]
    },
    {
      "cell_type": "code",
      "metadata": {
        "colab": {
          "base_uri": "https://localhost:8080/"
        },
        "id": "31jykV0ovLjR",
        "outputId": "1a2b15ea-a062-4d48-cd74-a11260794a9a"
      },
      "source": [
        "np.std(x)"
      ],
      "execution_count": 34,
      "outputs": [
        {
          "output_type": "execute_result",
          "data": {
            "text/plain": [
              "9.79004622542148"
            ]
          },
          "metadata": {
            "tags": []
          },
          "execution_count": 34
        }
      ]
    },
    {
      "cell_type": "markdown",
      "metadata": {
        "id": "NWZdzauGvSKu"
      },
      "source": [
        "Okay so our estimates turn out to be\r\n",
        "\r\n",
        "$\\mu = 0.024 $\r\n",
        "$\\sigma = 9.8 $\r\n",
        "\r\n",
        "both are pretty close to what we know are the true values of 0 and 10!"
      ]
    }
  ]
}