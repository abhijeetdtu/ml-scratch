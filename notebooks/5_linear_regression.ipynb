{
  "nbformat": 4,
  "nbformat_minor": 0,
  "metadata": {
    "colab": {
      "name": "5-linear-regression.ipynb",
      "provenance": []
    },
    "kernelspec": {
      "name": "python3",
      "display_name": "Python 3"
    }
  },
  "cells": [
    {
      "cell_type": "markdown",
      "metadata": {
        "id": "jLftNmlou1C5"
      },
      "source": [
        "# Linear Regression\r\n",
        "\r\n",
        "<center>\r\n",
        "<img src=\"https://user-images.githubusercontent.com/6872080/106463522-8d4c6280-6465-11eb-901a-9d8edcfb4ecb.png\" width=\"60%\">\r\n",
        "</center>\r\n",
        "\r\n",
        "\r\n",
        "### Tad bit of History\r\n",
        "`Francis Galton` in his [paper](http://www.stat.ucla.edu/~nchristo/statistics100C/history_regression.pdf) introduced the idea of `Regression`. He first worked with plant seeds and then with human heights data to understand `inheritance`. \r\n",
        "\r\n",
        "Later on he would go on to suggest that society should promote the marriage of what he felt were the fittest individuals by providing monetary incentives. Sounds kind of icky ?\r\n",
        "\r\n",
        "Shortly thereafter, many intellectuals and political leaders \r\n",
        "(e.g., \r\n",
        "- Alexander Graham Bell, \r\n",
        "- Winston Churchill, \r\n",
        "- John Maynard Keynes, \r\n",
        "- and Woodrow Wilson) \r\n",
        "\r\n",
        "accepted the notion that modern societies, as a matter of policy, should promote the improvement of the human race through various forms of governmental intervention. While initially this desire was manifested as the promotion of selective breeding, it ultimately contributed to the intellectual underpinnings of \r\n",
        "- state-sponsored discrimination, \r\n",
        "- forced sterilization, \r\n",
        "- and genocide.\r\n",
        "\r\n",
        "And these kind of thoughts became mainstream and promoted as 'scientific'\r\n",
        "\r\n",
        "<center>\r\n",
        "<img src=\"https://user-images.githubusercontent.com/6872080/106465321-d00f3a00-6467-11eb-9553-9968a1fee51a.png\" width=\"40%\">\r\n",
        "</center>\r\n",
        "\r\n",
        "\r\n",
        "- Henry F. Osborn, then president of the American Museum of Natural History in New York\r\n",
        "\r\n",
        "[source](https://www.ncbi.nlm.nih.gov/pmc/articles/PMC2757926/)"
      ]
    },
    {
      "cell_type": "markdown",
      "metadata": {
        "id": "jMrf2g8gzISv"
      },
      "source": [
        "# Back to Science\r\n",
        "\r\n",
        "Okay so that was rough. But the underpinning of all that `Galton` proposed was `regression` to the mean. \r\n",
        "He was dealing with data which had heights of kids and their parents and he was looking to see if there any discernible patterns. And the pattern he found, he called it the `law of regresion`.\r\n",
        "\r\n",
        "To quote `Galton's paper`\r\n",
        "\r\n",
        "![image](https://user-images.githubusercontent.com/6872080/106482723-ba0b7480-647b-11eb-917f-0d5efc833e68.png)\r\n",
        "\r\n",
        "Mathematically \r\n",
        "\r\n",
        "let `mean` height of the population be $\\bar{H}$,\r\n",
        "\r\n",
        "let a given child's height be $c_i$ \r\n",
        "\r\n",
        "and mid-parentage being defined as \r\n",
        "\r\n",
        "$$ p_i = \\frac{(father's height +  adjustmentfactor *mother's height)}{2} $$\r\n",
        "\r\n",
        "where adjustment factor is a constant\r\n",
        "\r\n",
        "then what galton observed is\r\n",
        "\r\n",
        "$$ c_i =  \\frac{2}{3}*p_i + \\frac{1}{3}*\\bar{H}  $$\r\n",
        "\r\n",
        "What you see above is that a child's height is a function of the parent's height , thats because of regression to the mean. And that too not any function but a `linear` function. \r\n",
        "\r\n",
        "### What's a linear function ?\r\n",
        "\r\n",
        "A linear function is any function $f$ such that\r\n",
        "\r\n",
        "$$ f(x+y) = f(x) + f(y) $$\r\n",
        "\r\n",
        "and \r\n",
        "\r\n",
        "$$ f(\\alpha x) = \\alpha*f(x) $$ where $ \\alpha $ is some constant.\r\n",
        "\r\n",
        "\r\n",
        "### But how to find this function ?\r\n",
        "\r\n",
        "Now suppose we want to repeat what Galton did. Suppose, given both parents' and children's heights we want to find a rule that will allow us to predict children's height given only parent's heights. This is the kind of problem that regression helps us solve. \r\n",
        "\r\n",
        "\r\n",
        "To generalize what `Galton` found. Let our dependent variable be $y$ which is a function of a random variable $x$ and we assume that this relationship is linear. Then $ith$ observation is given by $(x_i , y_i) $ and related as follows\r\n",
        "\r\n",
        "\r\n",
        "$$ y_i = W^Tx_i + b + \\epsilon $$\r\n",
        "or\r\n",
        "\r\n",
        "$$ \\epsilon = y_i - ( W^Tx_i + b) $$\r\n",
        "\r\n",
        "usually we can subsume $b$ by adding a constant feature to $x$ and therefore the quation can be simplied to \r\n",
        "\r\n",
        "\\begin{equation}\r\n",
        "\\epsilon = y_i - W^Tx_i\r\n",
        "\\tag{1}\r\n",
        "\\end{equation}\r\n",
        "\r\n",
        "where $W$ is the weight matrix and signifies how much do each of the features in $X$ contribute to $y$\r\n",
        "\r\n",
        "## Noise\r\n",
        "$\\epsilon$ is represents the noise in our data or in the random process itself and usually assumed to be normally distributed with a `mean` of 0 and some fixed standard deviaition $\\sigma$. \r\n",
        "\r\n",
        "$$ \\epsilon \\in \\mathcal{N(0 , \\sigma^2)}$$\r\n",
        "\r\n",
        "This comes from theory of errors\r\n",
        "\r\n",
        "<center>\r\n",
        "<img src=\"https://user-images.githubusercontent.com/6872080/106494758-cf3ad000-6488-11eb-9ec8-efcbefc2b896.png\"/ width=\"50%\">\r\n",
        "</center>\r\n",
        "\r\n",
        "[source](https://sci-hub.se/https://doi.org/10.1103/RevModPhys.6.119)\r\n",
        "\r\n",
        "Which means that\r\n",
        "\r\n",
        "$$ P(\\epsilon) = \\frac{1}{\\sqrt{2\\pi}\\sigma}e^{-\\frac{\\epsilon^2}{\\sigma^2}} $$\r\n",
        "\r\n",
        "but from (1) we can substitute the value for $\\epsilon$ and get\r\n",
        "\r\n",
        "\\begin{equation}\r\n",
        "P(y_i) = \\frac{1}{\\sqrt{2\\pi}\\sigma}e^{-\\frac{(y_i-W^Tx_i)^2}{\\sigma^2}}\r\n",
        "\\tag{2}\r\n",
        "\\end{equation}\r\n",
        "\r\n",
        "# Derivation\r\n",
        "### Maximum Likelihood Estimation\r\n",
        "\r\n",
        "Now will use Maximum likelihood Estimation(MLE) to find the weights. If you don't know MLE please refer to [this](https://github.com/abhijeetdtu/ml-scratch/blob/master/notebooks/README.md)\r\n",
        "\r\n",
        "Basically MLE tries to maximize the probability of seeing the entire dataset/sample given a distribution and thereby finding the parameters we need.\r\n",
        "\r\n",
        "Probability of one data point is given by $(2)$ and since each data point in our dataset/sample is $i.i.d$ (independently and identically drawn) from same distribution, therefore probability of observing the dataset will be a simple product of the probabilities\r\n",
        "\r\n",
        "$$ likelihood(Dataset) = \\prod_i P(y_i) $$\r\n",
        "\r\n",
        "from $(2)$\r\n",
        "$$ likelihood(Dataset) = \\prod_i  \\frac{1}{\\sqrt{2\\pi}\\sigma}e^{-\\frac{(y_i-W^Tx_i)^2}{\\sigma^2}} $$\r\n",
        "\r\n",
        "Now we want to maximize the likelihood of seeing the dataset. To do that we need to adjust the contributions/ weights of each of the feature in our data i.e the $W$ matrix and find $W$ that maximize the likelihood(dataset)\r\n",
        "\r\n",
        "$$ argmax_W \\ likelihood(Dataset) = argmax_W \\ \\prod_i  \\frac{1}{\\sqrt{2\\pi}\\sigma}e^{-\\frac{(y_i-W^Tx_i)^2}{\\sigma^2}} $$\r\n",
        "\r\n",
        "we can apply log to both sides as it is a monotonic function and doesn't change the solution to the equation but does make our calculations easier.\r\n",
        "\r\n",
        "$R.H.S$\r\n",
        "$$ = argmax_W \\sum_i \\ log(\\frac{1}{\\sqrt{2\\pi}\\sigma}e^{-\\frac{(y_i-W^Tx_i)^2}{\\sigma^2}}) $$\r\n",
        "\r\n",
        "$$ = argmax_W \\sum_i (\\ log(\\frac{1}{\\sqrt{2\\pi}\\sigma}) + log(e^{-\\frac{(y_i-W^Tx_i)^2}{\\sigma^2}}) )$$\r\n",
        "\r\n",
        "\\begin{equation} \r\n",
        "= argmax_W \\sum_i (\\ constant  + -\\frac{(y_i-W^Tx_i)^2}{\\sigma^2}) \r\n",
        "\\end{equation}\r\n",
        "\r\n",
        "Since constant does not depend on $W$ we can remove it\r\n",
        "\r\n",
        "$$ = argmax_W \\sum_i  -\\frac{(y_i-W^Tx_i)^2}{\\sigma^2} $$\r\n",
        "\r\n",
        "Since we are finding the maxima and $\\sigma$ does not depend on $W$ we can move it outside the summation.\r\n",
        "\r\n",
        "$$ argmax_W -\\frac{1}{\\sigma^2} \\sum_i (y_i-W^Tx_i)^2 $$\r\n",
        "\r\n",
        "since the whole expression is negative we can remove that and change it to a minimization problem instead\r\n",
        "\r\n",
        "$$ argmin_W \\frac{1}{\\sigma^2} \\sum_i (y_i-W^Tx_i)^2 $$\r\n",
        "\r\n",
        "Since we are minimizing and $\\sigma$ does not depend on $W$ we simply get rid of it.\r\n",
        "\r\n",
        "\\begin{equation}\r\n",
        " argmin_W \\sum_i (y_i-W^Tx_i)^2\r\n",
        "\\tag{3}\r\n",
        "\\end{equation}\r\n",
        "\r\n",
        "SO....\r\n",
        "\r\n",
        "this turns out to be just a problem of minizing the residuals in the sample by choosing appropriate $W$\r\n",
        "\r\n",
        "To solve the equation in closed form we can differentiate the equation with respect to $W$ and set it to 0\r\n",
        "\r\n",
        "Euqation $(3)$ can be written in Matrix form as\r\n",
        "\r\n",
        "$$ (Y-W^TX)^T(Y-W^TX) $$\r\n",
        "\r\n",
        "$$ = (Y^T-X^TW)(Y-W^TX) $$\r\n",
        "$$ = Y^TY - 2X^TWY + X^TWW^TX$$\r\n",
        "\r\n",
        "Now differentiating this with respect to W and equating to 0\r\n",
        "\r\n",
        "$$  - 2X^TY + 2X^TXW = 0$$\r\n",
        "$$   X^TXW =  X^TY $$\r\n",
        "\r\n",
        "\\begin{equation}\r\n",
        "  W =  (X^TX)^{-1}X^TY\r\n",
        "  \\tag{4}\r\n",
        "\\end{equation}\r\n",
        "\r\n",
        "Therefore we can find weights in closed form that will give us MLE estimates. \r\n",
        "\r\n",
        "BUT the problem is \r\n",
        "1. since each $X$ is a $n\\ X \\ d$ matrix, $(X^TX)$ will be $O(d^2)$ where $d$ is the number of features/dimensions and $n$ is the number of observations and therefore the memory requirements grows quadratically with the number of dimensions.\r\n",
        "\r\n",
        "2. Also the computation of $ (X^TX)^{-1}X$ will be $O(d^3)$ in complexity \r\n",
        "\r\n",
        "Therefore it becomes prohibtive as the number of dimensions increase in the dataset.\r\n",
        "\r\n",
        "Therefore the solutions is usually found using `Gradient Descent`. If you not familiar with it or want a quick refreseher. [Here](https://github.com/abhijeetdtu/ml-scratch/blob/master/notebooks/README.md) it is.\r\n",
        "\r\n",
        "\r\n",
        "\r\n",
        "\r\n"
      ]
    },
    {
      "cell_type": "markdown",
      "metadata": {
        "id": "yByeeH3v77ye"
      },
      "source": [
        "# Implementation\r\n",
        "\r\n",
        "Now let's get rockin. \r\n",
        "\r\n",
        "First we generate a synthetic dataset. Suppose this dataset  includes heights of parent (X) and kids (y). \r\n",
        "\r\n",
        "Now since we are generating the dataset we know beforehand the relationship. But we will learn it using Linear Regression"
      ]
    },
    {
      "cell_type": "code",
      "metadata": {
        "id": "5bxpeuHTVH7r"
      },
      "source": [
        "import numpy as np\r\n",
        "import matplotlib.pyplot as plt\r\n",
        "import pandas as pd\r\n",
        "from plotnine import *"
      ],
      "execution_count": 23,
      "outputs": []
    },
    {
      "cell_type": "code",
      "metadata": {
        "id": "tVHhbdPd8Vz6"
      },
      "source": [
        "X = np.random.normal(68,1.7 , (10000,1)) #Mean being 68 inches and with a standard deviation of around 1.7 inches\r\n",
        "y = np.sum((2/3)*X , 1) + (1/3)*68"
      ],
      "execution_count": 240,
      "outputs": []
    },
    {
      "cell_type": "code",
      "metadata": {
        "colab": {
          "base_uri": "https://localhost:8080/"
        },
        "id": "0pHoLH8nFseW",
        "outputId": "df04c50c-fd3d-4a50-efc9-dcbc06e35922"
      },
      "source": [
        "X"
      ],
      "execution_count": 241,
      "outputs": [
        {
          "output_type": "execute_result",
          "data": {
            "text/plain": [
              "array([[69.80994004],\n",
              "       [68.76175805],\n",
              "       [68.07775895],\n",
              "       ...,\n",
              "       [67.42699906],\n",
              "       [63.64637173],\n",
              "       [68.0976536 ]])"
            ]
          },
          "metadata": {
            "tags": []
          },
          "execution_count": 241
        }
      ]
    },
    {
      "cell_type": "code",
      "metadata": {
        "colab": {
          "base_uri": "https://localhost:8080/"
        },
        "id": "rDhm1O7LDzZY",
        "outputId": "f558455c-7431-4358-959e-50e9a43215ff"
      },
      "source": [
        "y"
      ],
      "execution_count": 242,
      "outputs": [
        {
          "output_type": "execute_result",
          "data": {
            "text/plain": [
              "array([69.20662669, 68.5078387 , 68.0518393 , ..., 67.61799938,\n",
              "       65.09758115, 68.0651024 ])"
            ]
          },
          "metadata": {
            "tags": []
          },
          "execution_count": 242
        }
      ]
    },
    {
      "cell_type": "code",
      "metadata": {
        "colab": {
          "base_uri": "https://localhost:8080/",
          "height": 519
        },
        "id": "KpILUWJQ8cf3",
        "outputId": "7d8104c0-3d52-4af7-996b-0c949b884fd2"
      },
      "source": [
        "(\r\n",
        "    ggplot(pd.DataFrame({\"x\" : X[:,0] , \"y\":y}) , aes(x=\"x\"))\r\n",
        "    + geom_histogram()\r\n",
        "    + theme_bw()\r\n",
        ")"
      ],
      "execution_count": 243,
      "outputs": [
        {
          "output_type": "stream",
          "text": [
            "/usr/local/lib/python3.6/dist-packages/plotnine/stats/stat_bin.py:93: PlotnineWarning: 'stat_bin()' using 'bins = 57'. Pick better value with 'binwidth'.\n",
            "  warn(msg.format(params['bins']), PlotnineWarning)\n"
          ],
          "name": "stderr"
        },
        {
          "output_type": "display_data",
          "data": {
            "image/png": "[encoded data removed]",
            "text/plain": [
              "<Figure size 640x480 with 1 Axes>"
            ]
          },
          "metadata": {
            "tags": []
          }
        },
        {
          "output_type": "execute_result",
          "data": {
            "text/plain": [
              "<ggplot: (-9223363276626373204)>"
            ]
          },
          "metadata": {
            "tags": []
          },
          "execution_count": 243
        }
      ]
    },
    {
      "cell_type": "markdown",
      "metadata": {
        "id": "H2t3aZY8-B10"
      },
      "source": [
        "Okay so now we have a bunch of heights of both parents ( mid-parent) and their children. Let's code up `Gradient Descent` class that will be a helper to our `LinearRegression` class."
      ]
    },
    {
      "cell_type": "code",
      "metadata": {
        "id": "fh2-hQvR-BVQ"
      },
      "source": [
        "class GradientDescent:\r\n",
        "\r\n",
        "  def __init__(self ,derivative_fn , learning_rate = 1e-5):\r\n",
        "    self.derivative_fn = derivative_fn\r\n",
        "    self.learning_rate = learning_rate\r\n",
        "\r\n",
        "  def fit(self,X,y):\r\n",
        "\r\n",
        "    weights = np.zeros(X.shape[1])\r\n",
        "\r\n",
        "    while True:\r\n",
        "       gradient = self.derivative_fn(X,y,weights)\r\n",
        "       #print(gradient)\r\n",
        "       weights = weights - self.learning_rate*gradient\r\n",
        "\r\n",
        "       if np.linalg.norm(gradient , 2) < 0.1:\r\n",
        "         break\r\n",
        "    \r\n",
        "    return weights\r\n"
      ],
      "execution_count": 286,
      "outputs": []
    },
    {
      "cell_type": "markdown",
      "metadata": {
        "id": "3pmvQn33_IHb"
      },
      "source": [
        "Now let's code up our linear regression class that uses the GradientDescent Class.\r\n",
        "\r\n",
        "Derivative of the $liklihood(Datast)$ function comes from differentiating equation $(3)$ with respect to $W$\r\n",
        "and it comes out to be \r\n",
        "\r\n",
        "$$ \\frac{\\partial{LL}}{\\partial{W}} = -\\sum_i 2x_i(y_i - W^Txi)$$"
      ]
    },
    {
      "cell_type": "code",
      "metadata": {
        "id": "4LG-AmVw8f-E"
      },
      "source": [
        "class LinearRegression:\r\n",
        "  \r\n",
        "  def _derivative(self,X,y,weights):\r\n",
        "    residuals = (y-np.dot(X , weights)).reshape((-1,1))\r\n",
        "    grad= np.sum(-2*np.dot(X.T , residuals) , 1)\r\n",
        "    #print(grad.shape)\r\n",
        "    return grad\r\n",
        "\r\n",
        "  def fit(self,X,y):\r\n",
        "    X = X.copy()\r\n",
        "    X = np.hstack((X , np.ones((X.shape[0],1)))) # Subsuming bias term\r\n",
        "    #print(X.shape)\r\n",
        "    gd = GradientDescent(self._derivative , 1e-8)\r\n",
        "    self.weights = gd.fit(X,y)\r\n",
        "  \r\n",
        "  def predict(self,X):\r\n",
        "    X = np.hstack((X , np.ones((X.shape[0],1))))\r\n",
        "    return np.dot(X , self.weights)\r\n"
      ],
      "execution_count": 285,
      "outputs": []
    },
    {
      "cell_type": "code",
      "metadata": {
        "id": "-2yTi2UWAC5u"
      },
      "source": [
        "lr = LinearRegression()\r\n",
        "x_scaled = (X-X.mean()) / X.std()\r\n",
        "lr.fit(x_scaled,y)"
      ],
      "execution_count": 279,
      "outputs": []
    },
    {
      "cell_type": "code",
      "metadata": {
        "colab": {
          "base_uri": "https://localhost:8080/"
        },
        "id": "VVPll-l4AGOE",
        "outputId": "b23aaed6-ad51-428e-c09e-a39571c6c58d"
      },
      "source": [
        "lr.weights"
      ],
      "execution_count": 280,
      "outputs": [
        {
          "output_type": "execute_result",
          "data": {
            "text/plain": [
              "array([ 1.11516642, 68.01286132])"
            ]
          },
          "metadata": {
            "tags": []
          },
          "execution_count": 280
        }
      ]
    },
    {
      "cell_type": "markdown",
      "metadata": {
        "id": "FWWXkh7XSGNf"
      },
      "source": [
        "## WAIT!\r\n",
        "\r\n",
        "The linear regression we just ran found us the equation\r\n",
        "\r\n",
        "$$ c_i =  1.11*p_i + 68  $$\r\n",
        "\r\n",
        "but wasn't it supposed to be \r\n",
        "\r\n",
        "$$ c_i =  \\frac{2}{3}*p_i + \\frac{1}{3}*\\bar{H}  $$\r\n",
        "\r\n",
        "Well what has happend is that it's the same relationship but on different scale. This is because we `scaled` and `centered` or `standardized` our `X` values before we ran linear regression on it. This is a good practice when using Gradient Based methods because it helps avoid gradient explosion and vanishing problems.\r\n",
        "\r\n",
        "the 1.11 above is really just (2/3) in the new scale. To get the original value we can scale back using the standard deviation of X."
      ]
    },
    {
      "cell_type": "code",
      "metadata": {
        "colab": {
          "base_uri": "https://localhost:8080/"
        },
        "id": "WaOn95jFS1Sk",
        "outputId": "a39d64c6-e0d6-4437-e387-1fb71257cbcb"
      },
      "source": [
        "1.11 / X.std()"
      ],
      "execution_count": 295,
      "outputs": [
        {
          "output_type": "execute_result",
          "data": {
            "text/plain": [
              "0.6635780799462813"
            ]
          },
          "metadata": {
            "tags": []
          },
          "execution_count": 295
        }
      ]
    },
    {
      "cell_type": "markdown",
      "metadata": {
        "id": "t4T89NwXTPa3"
      },
      "source": [
        "Let's visualize the line found"
      ]
    },
    {
      "cell_type": "code",
      "metadata": {
        "colab": {
          "base_uri": "https://localhost:8080/",
          "height": 465
        },
        "id": "1HD_L6lsN2o1",
        "outputId": "b2479e9b-733e-469b-cb71-9c19c365a343"
      },
      "source": [
        "annotat(\r\n",
        "    ggplot(pd.DataFrame({\"x\" : X[:,0] , \"y\":y}) , aes(x=\"x\" , y=\"y\"))\r\n",
        "    + geom_jitter()\r\n",
        "    + annotate(\"segment\" \r\n",
        "               , x=np.min(X) \r\n",
        "               , y=lr.predict(np.min(x_scaled).reshape(-1,1)) \r\n",
        "               , xend=np.max(X) ,\r\n",
        "               yend=lr.predict(np.max(x_scaled).reshape(-1,1)) , color=\"green\")\r\n",
        "    + theme_bw()\r\n",
        ")"
      ],
      "execution_count": 284,
      "outputs": [
        {
          "output_type": "display_data",
          "data": {
            "image/png": "[encoded data removed]",
            "text/plain": [
              "<Figure size 640x480 with 1 Axes>"
            ]
          },
          "metadata": {
            "tags": []
          }
        },
        {
          "output_type": "execute_result",
          "data": {
            "text/plain": [
              "<ggplot: (-9223363276627096085)>"
            ]
          },
          "metadata": {
            "tags": []
          },
          "execution_count": 284
        }
      ]
    },
    {
      "cell_type": "markdown",
      "metadata": {
        "id": "FpgjMaWATRsm"
      },
      "source": [
        "Seems like a perfect fit! \r\n",
        "\r\n",
        "Let's also look at `Mean Squared Error` to mathematically evaluate our fit for the data"
      ]
    },
    {
      "cell_type": "code",
      "metadata": {
        "id": "mj02ZXBXLFnT"
      },
      "source": [
        "from sklearn.metrics import mean_squared_error"
      ],
      "execution_count": 296,
      "outputs": []
    },
    {
      "cell_type": "code",
      "metadata": {
        "colab": {
          "base_uri": "https://localhost:8080/"
        },
        "id": "dOltInMmKZci",
        "outputId": "3a90a451-1431-4aaa-fcbe-b5eee1234ec4"
      },
      "source": [
        "mean_squared_error(y , lr.predict(x_scaled))"
      ],
      "execution_count": 297,
      "outputs": [
        {
          "output_type": "execute_result",
          "data": {
            "text/plain": [
              "2.4980812857197036e-13"
            ]
          },
          "metadata": {
            "tags": []
          },
          "execution_count": 297
        }
      ]
    },
    {
      "cell_type": "markdown",
      "metadata": {
        "id": "4lvmoRN_TZSx"
      },
      "source": [
        "We generate a test dataset and see how our model performs on this unseen data"
      ]
    },
    {
      "cell_type": "code",
      "metadata": {
        "colab": {
          "base_uri": "https://localhost:8080/"
        },
        "id": "PYdZOB9eKbPJ",
        "outputId": "eae43ea1-d472-4bf1-b5b5-0701fd26ff6b"
      },
      "source": [
        "x_test = np.random.normal(68,1.7 , (10000,1))\r\n",
        "y_test = np.sum((2/3)*x_test , 1) + (1/3)*68\r\n",
        "\r\n",
        "x_test = (x_test - x_test.mean())/ x_test.std()\r\n",
        "mean_squared_error(y_test , lr.predict(x_test))"
      ],
      "execution_count": 298,
      "outputs": [
        {
          "output_type": "execute_result",
          "data": {
            "text/plain": [
              "0.00041160444477084264"
            ]
          },
          "metadata": {
            "tags": []
          },
          "execution_count": 298
        }
      ]
    },
    {
      "cell_type": "markdown",
      "metadata": {
        "id": "ntcD5f6LTes_"
      },
      "source": [
        "We get a pretty low error! Great! \r\n",
        "Also to note is that `Test set` errors are greater than the `Train Set` error."
      ]
    }
  ]
}